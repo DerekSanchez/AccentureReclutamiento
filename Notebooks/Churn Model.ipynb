{
 "cells": [
  {
   "cell_type": "markdown",
   "metadata": {},
   "source": [
    "Defincion de módulos con scripts de funciones"
   ]
  },
  {
   "cell_type": "code",
   "execution_count": null,
   "metadata": {},
   "outputs": [],
   "source": [
    "import sys\n",
    "import os\n",
    "\n",
    "#Añadir el directorio raíz del proyecto al sys.path\n",
    "sys.path.append(os.path.abspath(os.path.join('..')))\n",
    "\n",
    "#Importar modulos\n",
    "import Paquete.carga_datos as cdata\n",
    "import Paquete.preprocesamiento as prep\n",
    "import Paquete.visualizaciones as vis\n",
    "import Paquete.modelaje as md\n",
    "\n",
    "from sklearn.model_selection import train_test_split\n",
    "import pandas as pd\n",
    "\n",
    "import warnings\n",
    "warnings.filterwarnings(action='ignore')\n",
    "\n",
    "seed = 123"
   ]
  },
  {
   "cell_type": "markdown",
   "metadata": {},
   "source": [
    "Lectura de datos"
   ]
  },
  {
   "cell_type": "code",
   "execution_count": null,
   "metadata": {},
   "outputs": [],
   "source": [
    "ruta = cdata.GetRutaInput('Data.xlsx')\n",
    "data = cdata.LecturaData(ruta)"
   ]
  },
  {
   "cell_type": "code",
   "execution_count": null,
   "metadata": {},
   "outputs": [],
   "source": [
    "#visualizar el dataframe\n",
    "data"
   ]
  },
  {
   "cell_type": "code",
   "execution_count": null,
   "metadata": {},
   "outputs": [],
   "source": [
    "#Filas y columnas\n",
    "data.shape"
   ]
  },
  {
   "cell_type": "code",
   "execution_count": null,
   "metadata": {},
   "outputs": [],
   "source": [
    "#Tipo de datos\n",
    "data.dtypes"
   ]
  },
  {
   "cell_type": "code",
   "execution_count": null,
   "metadata": {},
   "outputs": [],
   "source": [
    "#Cardinalidad de variables\n",
    "prep.UnicosFeature(data)"
   ]
  },
  {
   "cell_type": "code",
   "execution_count": null,
   "metadata": {},
   "outputs": [],
   "source": [
    "#Recuento de vacíos\n",
    "data.isna().sum()"
   ]
  },
  {
   "cell_type": "code",
   "execution_count": null,
   "metadata": {},
   "outputs": [],
   "source": [
    "#Drop de ID customer, al ser unica no tiene valor predictivo\n",
    "data= data.drop(['customerID'], axis = 1)"
   ]
  },
  {
   "cell_type": "markdown",
   "metadata": {},
   "source": [
    "Splitting de data en training y testing (para evitar data leakeage)"
   ]
  },
  {
   "cell_type": "code",
   "execution_count": null,
   "metadata": {},
   "outputs": [],
   "source": [
    "#Definición de variables por rol en el modelo\n",
    "Target ='Churn'\n",
    "FeaturesNumericos = ['MonthlyCharges', 'TotalCharges', 'tenure']\n",
    "FeaturesCategoricos = data.columns.drop(Target).drop(FeaturesNumericos)\n"
   ]
  },
  {
   "cell_type": "code",
   "execution_count": null,
   "metadata": {},
   "outputs": [],
   "source": [
    "#Labeling\n",
    "X = data.drop(columns = Target, inplace = False)\n",
    "y = pd.DataFrame(data[Target].map({'Yes': 1, 'No':0}))\n",
    "X_train, X_test, y_train, y_test = train_test_split(X, y, test_size = 0.3, random_state = seed)"
   ]
  },
  {
   "cell_type": "markdown",
   "metadata": {},
   "source": [
    "Preprocesamiento Variables Numericas (sobre training set)"
   ]
  },
  {
   "cell_type": "code",
   "execution_count": null,
   "metadata": {},
   "outputs": [],
   "source": [
    "X_num = X_train[FeaturesNumericos]\n",
    "X_cat = X_train[FeaturesCategoricos]\n",
    "#Aplicación de funciones a df de variables numericas\n",
    "\n",
    "X_num = prep.CambioNoNumerico(X_num, X_num.columns)\n",
    "X_num = prep.ToFloat(X_num, X_num.columns)\n",
    "X_num = prep.RellenoNA(X_num, X_num.columns)"
   ]
  },
  {
   "cell_type": "code",
   "execution_count": null,
   "metadata": {},
   "outputs": [],
   "source": [
    "#Checks\n",
    "print(\"Cantidad de NAs en Dataframe: \", X_num.isna().sum().sum())\n",
    "print(\"Tipo de datos: \", list(zip(FeaturesNumericos, X_num.dtypes.to_list())))"
   ]
  },
  {
   "cell_type": "markdown",
   "metadata": {},
   "source": [
    "Visualizaciones (sobre training set)"
   ]
  },
  {
   "cell_type": "code",
   "execution_count": null,
   "metadata": {},
   "outputs": [],
   "source": [
    "#Histogramas\n",
    "vis.HistogramasIndividuales(X_num)"
   ]
  },
  {
   "cell_type": "code",
   "execution_count": null,
   "metadata": {},
   "outputs": [],
   "source": [
    "#Densidades suavizadas con kernell\n",
    "vis.DensidadSuavizadaSimultanea(X_num, X_num.columns)"
   ]
  },
  {
   "cell_type": "code",
   "execution_count": null,
   "metadata": {},
   "outputs": [],
   "source": [
    "#Boxplot iterativo\n",
    "vis.BoxPlotIterativo(X_num, y_train, Target)"
   ]
  },
  {
   "cell_type": "code",
   "execution_count": null,
   "metadata": {},
   "outputs": [],
   "source": [
    "#Evaluacion de desbalanceo de clases\n",
    "vis.PlotDesbalanceoClass(y_train,y_train.columns)"
   ]
  },
  {
   "cell_type": "code",
   "execution_count": null,
   "metadata": {},
   "outputs": [],
   "source": [
    "#Heatmap correlaciones\n",
    "vis.HeatmapCorr(X_num, y_train, annotacion=True, mostrar_ejes= True, mostrar_barra_color=True, largo=4, ancho=3)"
   ]
  },
  {
   "cell_type": "code",
   "execution_count": null,
   "metadata": {},
   "outputs": [],
   "source": [
    "#Drop de columnas numericas\n",
    "Col_Numericas_ToDrop = ['TotalCharges']\n",
    "X_num = X_num.drop(Col_Numericas_ToDrop, axis = 1)"
   ]
  },
  {
   "cell_type": "markdown",
   "metadata": {},
   "source": [
    "Preprocesamiento Categorico (sobre training set)"
   ]
  },
  {
   "cell_type": "code",
   "execution_count": null,
   "metadata": {},
   "outputs": [],
   "source": [
    "#Simplificacion de features con cardinalidad de 3 (transformados a binarios)\n",
    "Features_a_Binarios = ['MultipleLines','OnlineSecurity','OnlineBackup','DeviceProtection','TechSupport','StreamingTV','StreamingMovies']\n",
    "prep.aBinario(X_cat, Features_a_Binarios)"
   ]
  },
  {
   "cell_type": "code",
   "execution_count": null,
   "metadata": {},
   "outputs": [],
   "source": [
    "X_cat = prep.EncodingBinario(X_cat, X_cat.columns)"
   ]
  },
  {
   "cell_type": "code",
   "execution_count": null,
   "metadata": {},
   "outputs": [],
   "source": [
    "#Prueba Chi2 de independencia para eliminar features cateogoricos\n",
    "ColsToDrop = prep.Chi2Filtering(X_cat, X_cat.columns, y_train, 0.1)\n",
    "X_cat = X_cat.drop(columns = ColsToDrop)"
   ]
  },
  {
   "cell_type": "code",
   "execution_count": null,
   "metadata": {},
   "outputs": [],
   "source": [
    "#One hot encoding\n",
    "X_cat = prep.OneHotEncode(X_cat, X_cat.columns)"
   ]
  },
  {
   "cell_type": "markdown",
   "metadata": {},
   "source": [
    "Preprocesamiento conjunto (sobre Training set)"
   ]
  },
  {
   "cell_type": "code",
   "execution_count": null,
   "metadata": {},
   "outputs": [],
   "source": [
    "X_train =pd.concat([X_num,X_cat], axis = 1)\n",
    "X_train"
   ]
  },
  {
   "cell_type": "code",
   "execution_count": null,
   "metadata": {},
   "outputs": [],
   "source": [
    "#Scaling\n",
    "X_train = prep.escala_data(X_train, method= 'standard')\n",
    "X_train"
   ]
  },
  {
   "cell_type": "code",
   "execution_count": null,
   "metadata": {},
   "outputs": [],
   "source": [
    "vis.DensidadSuavizadaSimultanea(X_train,['MonthlyCharges','tenure'], linewidth = 4,sizeL=10, sizeW=3)"
   ]
  },
  {
   "cell_type": "markdown",
   "metadata": {},
   "source": [
    "Preprocesamiento (sobre Testing set)"
   ]
  },
  {
   "cell_type": "code",
   "execution_count": null,
   "metadata": {},
   "outputs": [],
   "source": [
    "X_num = X_test[FeaturesNumericos]\n",
    "X_cat = X_test[FeaturesCategoricos]\n",
    "#Aplicación de funciones a df de variables numericas\n",
    "\n",
    "X_num = prep.CambioNoNumerico(X_num, X_num.columns)\n",
    "X_num = prep.ToFloat(X_num, X_num.columns)\n",
    "X_num = prep.RellenoNA(X_num, X_num.columns)\n",
    "\n",
    "#Drop de columnas numericas\n",
    "Col_Numericas_ToDrop = ['TotalCharges']\n",
    "X_num = X_num.drop(Col_Numericas_ToDrop, axis = 1)\n",
    "\n",
    "#Simplificacion de features con cardinalidad de 3 (transformados a binarios)\n",
    "Features_a_Binarios = ['MultipleLines','OnlineSecurity','OnlineBackup','DeviceProtection','TechSupport','StreamingTV','StreamingMovies']\n",
    "prep.aBinario(X_cat, Features_a_Binarios)\n",
    "\n",
    "X_cat = prep.EncodingBinario(X_cat, X_cat.columns)\n",
    "X_cat = X_cat.drop(columns = ColsToDrop)\n",
    "#One hot encoding\n",
    "X_cat = prep.OneHotEncode(X_cat, X_cat.columns)\n",
    "X_test =pd.concat([X_num,X_cat], axis = 1)\n",
    "\n",
    "#Scaling\n",
    "X_test = prep.escala_data(X_test, method= 'standard')\n",
    "\n",
    "X_test"
   ]
  },
  {
   "cell_type": "markdown",
   "metadata": {},
   "source": [
    "Seleccion de Modelo"
   ]
  },
  {
   "cell_type": "code",
   "execution_count": null,
   "metadata": {},
   "outputs": [],
   "source": [
    "MetricaEval = 'accuracy'"
   ]
  },
  {
   "cell_type": "code",
   "execution_count": null,
   "metadata": {},
   "outputs": [],
   "source": [
    "#Regresion Logistica\n",
    "md.SeleccionModelo(X_train, y_train, X_test, y_test, ModelSelected = 'Logistic Regression', metric = MetricaEval, seed = seed, iteraciones = 100 )"
   ]
  },
  {
   "cell_type": "code",
   "execution_count": null,
   "metadata": {},
   "outputs": [],
   "source": [
    "#Suport Vector Machine\n",
    "md.SeleccionModelo(X_train, y_train, X_test, y_test, ModelSelected = 'SVM', metric = MetricaEval, seed = seed, iteraciones = 100 )"
   ]
  },
  {
   "cell_type": "code",
   "execution_count": null,
   "metadata": {},
   "outputs": [],
   "source": [
    "#k-Nearest Neighbors\n",
    "md.SeleccionModelo(X_train, y_train, X_test, y_test, ModelSelected = 'KNN', metric = MetricaEval, seed = seed, iteraciones = 100)"
   ]
  },
  {
   "cell_type": "code",
   "execution_count": null,
   "metadata": {},
   "outputs": [],
   "source": [
    "#Arbol de decision\n",
    "md.SeleccionModelo(X_train, y_train, X_test, y_test, ModelSelected = 'Decision Tree', metric = MetricaEval, seed = seed, iteraciones = 100)"
   ]
  },
  {
   "cell_type": "code",
   "execution_count": null,
   "metadata": {},
   "outputs": [],
   "source": [
    "#Random Forest\n",
    "md.SeleccionModelo(X_train, y_train, X_test, y_test, ModelSelected = 'Random Forest', metric = MetricaEval, seed = seed, iteraciones = 100 )"
   ]
  },
  {
   "cell_type": "code",
   "execution_count": null,
   "metadata": {},
   "outputs": [],
   "source": [
    "#Gradient boosting\n",
    "md.SeleccionModelo(X_train, y_train, X_test, y_test, ModelSelected = 'Gradient Boosting', metric = MetricaEval, seed = seed, iteraciones = 10 )"
   ]
  }
 ],
 "metadata": {
  "kernelspec": {
   "display_name": "Python 3",
   "language": "python",
   "name": "python3"
  },
  "language_info": {
   "codemirror_mode": {
    "name": "ipython",
    "version": 3
   },
   "file_extension": ".py",
   "mimetype": "text/x-python",
   "name": "python",
   "nbconvert_exporter": "python",
   "pygments_lexer": "ipython3",
   "version": "3.11.1"
  }
 },
 "nbformat": 4,
 "nbformat_minor": 2
}
